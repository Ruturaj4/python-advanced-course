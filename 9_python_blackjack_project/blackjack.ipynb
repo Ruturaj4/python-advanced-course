{
 "cells": [
  {
   "cell_type": "code",
   "execution_count": 1,
   "metadata": {},
   "outputs": [],
   "source": [
    "# This is a notebook for python blackjack project"
   ]
  },
  {
   "cell_type": "code",
   "execution_count": 2,
   "metadata": {},
   "outputs": [],
   "source": [
    "dec = {\"Ace\":1, \"Two\":2, \"Three\":3, \"Four\":4, \"Five\":5, \"Six\":6, \"Seven\":7, \"Eight\":8, \"Nine\":9, \"Ten\":10, \"Jack\":10, \"Queen\":10, \"King\":10}\n",
    "\n",
    "suit = {\"clubs\", \"diamonds\", \"hearts\", \"spades\"}\n",
    "\n",
    "class Card:\n",
    "    def __init__(self, color, value):\n",
    "        self.color = color\n",
    "        self.value = value\n",
    "\n",
    "cards = [Card(color, card) for color in suit for card in dec]"
   ]
  },
  {
   "cell_type": "code",
   "execution_count": 3,
   "metadata": {},
   "outputs": [
    {
     "data": {
      "text/plain": [
       "'clubs'"
      ]
     },
     "execution_count": 3,
     "metadata": {},
     "output_type": "execute_result"
    }
   ],
   "source": [
    "cards[0].color"
   ]
  },
  {
   "cell_type": "code",
   "execution_count": 4,
   "metadata": {},
   "outputs": [
    {
     "data": {
      "text/plain": [
       "'Ace'"
      ]
     },
     "execution_count": 4,
     "metadata": {},
     "output_type": "execute_result"
    }
   ],
   "source": [
    "cards[0].value"
   ]
  },
  {
   "cell_type": "code",
   "execution_count": 5,
   "metadata": {},
   "outputs": [
    {
     "data": {
      "text/plain": [
       "'Two'"
      ]
     },
     "execution_count": 5,
     "metadata": {},
     "output_type": "execute_result"
    }
   ],
   "source": [
    "cards[1].value"
   ]
  },
  {
   "cell_type": "code",
   "execution_count": 6,
   "metadata": {},
   "outputs": [
    {
     "data": {
      "text/plain": [
       "'clubs'"
      ]
     },
     "execution_count": 6,
     "metadata": {},
     "output_type": "execute_result"
    }
   ],
   "source": [
    "cards[0].color"
   ]
  },
  {
   "cell_type": "code",
   "execution_count": 7,
   "metadata": {},
   "outputs": [],
   "source": [
    "import random"
   ]
  },
  {
   "cell_type": "code",
   "execution_count": 8,
   "metadata": {},
   "outputs": [],
   "source": [
    "random.shuffle(cards)"
   ]
  },
  {
   "cell_type": "code",
   "execution_count": 9,
   "metadata": {},
   "outputs": [
    {
     "data": {
      "text/plain": [
       "'hearts'"
      ]
     },
     "execution_count": 9,
     "metadata": {},
     "output_type": "execute_result"
    }
   ],
   "source": [
    "cards[0].color"
   ]
  },
  {
   "cell_type": "code",
   "execution_count": 10,
   "metadata": {},
   "outputs": [
    {
     "data": {
      "text/plain": [
       "'Five'"
      ]
     },
     "execution_count": 10,
     "metadata": {},
     "output_type": "execute_result"
    }
   ],
   "source": [
    "cards[0].value"
   ]
  },
  {
   "cell_type": "code",
   "execution_count": 11,
   "metadata": {},
   "outputs": [
    {
     "data": {
      "text/plain": [
       "52"
      ]
     },
     "execution_count": 11,
     "metadata": {},
     "output_type": "execute_result"
    }
   ],
   "source": [
    "len(cards)"
   ]
  },
  {
   "cell_type": "code",
   "execution_count": 12,
   "metadata": {},
   "outputs": [
    {
     "name": "stdout",
     "output_type": "stream",
     "text": [
      "[<__main__.Card object at 0x0000020A70DEA9B0>, <__main__.Card object at 0x0000020A70DEAD30>, <__main__.Card object at 0x0000020A70DEACC0>, <__main__.Card object at 0x0000020A70DEA7F0>, <__main__.Card object at 0x0000020A70DEA898>, <__main__.Card object at 0x0000020A70DE90F0>, <__main__.Card object at 0x0000020A70DEA860>, <__main__.Card object at 0x0000020A70DEA940>, <__main__.Card object at 0x0000020A70DEAE10>, <__main__.Card object at 0x0000020A70DEA9E8>, <__main__.Card object at 0x0000020A70DEA588>, <__main__.Card object at 0x0000020A70DEA908>, <__main__.Card object at 0x0000020A70DE9128>, <__main__.Card object at 0x0000020A70DEABE0>, <__main__.Card object at 0x0000020A70DEA6D8>, <__main__.Card object at 0x0000020A70DEAC18>, <__main__.Card object at 0x0000020A70DEAE48>, <__main__.Card object at 0x0000020A70DEA7B8>, <__main__.Card object at 0x0000020A70DEA630>, <__main__.Card object at 0x0000020A70DEAC50>, <__main__.Card object at 0x0000020A70DEAC88>, <__main__.Card object at 0x0000020A70DEAA90>, <__main__.Card object at 0x0000020A70DE9048>, <__main__.Card object at 0x0000020A70DEA710>, <__main__.Card object at 0x0000020A70DE90B8>, <__main__.Card object at 0x0000020A70DEA828>, <__main__.Card object at 0x0000020A70DEAAC8>, <__main__.Card object at 0x0000020A70DEAEB8>, <__main__.Card object at 0x0000020A70DEA780>, <__main__.Card object at 0x0000020A70DEAF60>, <__main__.Card object at 0x0000020A70DEA748>, <__main__.Card object at 0x0000020A70DEAB70>, <__main__.Card object at 0x0000020A70DEA668>, <__main__.Card object at 0x0000020A70DEAFD0>, <__main__.Card object at 0x0000020A70DE9080>, <__main__.Card object at 0x0000020A70DEAB00>, <__main__.Card object at 0x0000020A70DEADA0>, <__main__.Card object at 0x0000020A70DEAE80>, <__main__.Card object at 0x0000020A70DEA550>, <__main__.Card object at 0x0000020A70DEADD8>, <__main__.Card object at 0x0000020A70DEAA58>, <__main__.Card object at 0x0000020A70DEAB38>, <__main__.Card object at 0x0000020A70DEAEF0>, <__main__.Card object at 0x0000020A70DEAD68>, <__main__.Card object at 0x0000020A70DEACF8>, <__main__.Card object at 0x0000020A70DEA8D0>, <__main__.Card object at 0x0000020A70DEAF28>, <__main__.Card object at 0x0000020A70DEAA20>, <__main__.Card object at 0x0000020A70DEA978>, <__main__.Card object at 0x0000020A70DEAF98>, <__main__.Card object at 0x0000020A70DE9160>, <__main__.Card object at 0x0000020A70DEABA8>]\n"
     ]
    }
   ],
   "source": [
    "print(cards)"
   ]
  },
  {
   "cell_type": "code",
   "execution_count": 13,
   "metadata": {},
   "outputs": [],
   "source": [
    "# This point, the deck is ready"
   ]
  },
  {
   "cell_type": "code",
   "execution_count": 14,
   "metadata": {},
   "outputs": [],
   "source": [
    "class Hand:\n",
    "    def __init__(self, keeps=[], total=0, name=\"player\"):\n",
    "        self.keeps = keeps\n",
    "        self.total = total\n",
    "        self.name = name\n",
    "        \n",
    "    def tot(self):\n",
    "        self.total = 0\n",
    "        for x in self.keeps:\n",
    "            self.total += dec[x.value]\n",
    "        return self.total\n",
    "\n",
    "def board(playerHand, dealerHand):\n",
    "    for d in dealerHand.keeps:\n",
    "        print(\"Dealer: {},{}\".format(d.color, d.value))\n",
    "    print(\"{} total = {}\".format(dealerHand.name, dealerHand.total))\n",
    "    for p in playerHand.keeps:\n",
    "        print(\"Player: {},{}\".format(p.color, p.value))\n",
    "    print(\"{} total = {}\".format(playerHand.name, playerHand.total))\n",
    "\n",
    "def play(playerHand, dealerHand):\n",
    "    random.shuffle(cards)\n",
    "    dealerHand.keeps.extend([cards[0], cards[1]])\n",
    "    playerHand.keeps.extend([cards[2], cards[3]])\n",
    "    dealerHand.tot()\n",
    "    playerHand.tot()\n",
    "    board(playerHand, dealerHand)\n",
    "    # t keeps an index of shuffled deck\n",
    "    t = 4\n",
    "    while (1):\n",
    "        decision = \"\"\n",
    "        if dealerHand.total < 21 and playerHand.total < 21:\n",
    "            while (1):\n",
    "                decision = input(\"{}, use \\\"d\\\", to deal and \\\"s\\\", to stand: \".format(playerHand.name)).lower()\n",
    "                print(decision)\n",
    "                if decision == \"d\" or decision == \"s\":\n",
    "                    break\n",
    "            if decision == \"d\":\n",
    "                playerHand.keeps.extend([cards[t]])\n",
    "                t += 1\n",
    "                playerHand.tot()\n",
    "                board(playerHand, dealerHand)\n",
    "                \n",
    "                if playerHand.total > 21:\n",
    "                    return False\n",
    "                continue\n",
    "            else:\n",
    "                if playerHand.total < dealerHand.total:\n",
    "                    return False\n",
    "                else:\n",
    "                    while(1):\n",
    "                        dealerHand.keeps.extend([cards[t]])\n",
    "                        dealerHand.tot()\n",
    "                        board(playerHand, dealerHand)\n",
    "                        if dealerHand.total > 21:\n",
    "                            return True\n",
    "                        elif dealerHand.total < 21 and dealerHand.total > playerHand.total:\n",
    "                            return False\n",
    "                        elif dealerHand.total == 21:\n",
    "                            return False\n",
    "        elif dealerHand.total == 21 and  playerHand.total == 21:\n",
    "            return \"tie\"\n",
    "        elif dealerHand.total == 21:\n",
    "            return False\n",
    "        elif playerHand.total == 21:\n",
    "            return True\n",
    "\n",
    "def start():\n",
    "    while (1):\n",
    "        print(\"Let's play the game\")\n",
    "        playerName = input(\"Please enter your name: \")\n",
    "        print(\"Hi {}\".format(playerName))\n",
    "        playerHand = Hand(keeps=[], name = playerName)\n",
    "        dealerHand = Hand(keeps=[], name = \"dealer\")\n",
    "        result = play(playerHand, dealerHand)\n",
    "        if result:\n",
    "            print(\"{} wins!\".format(playerHand.name))\n",
    "        elif result == False:\n",
    "            print(\"{} wins!\".format(dealerHand.name))\n",
    "        else:\n",
    "            print(\"It's a tie!\")\n",
    "        while (1):\n",
    "            again = input(\"Do you want to play again?y/n: \").lower()\n",
    "            if again == \"y\" or again == \"n\":\n",
    "                break\n",
    "        if (again == \"y\"):\n",
    "            continue\n",
    "        elif (again == \"n\"):\n",
    "            print(\"Bye!\")\n",
    "            break"
   ]
  },
  {
   "cell_type": "code",
   "execution_count": 15,
   "metadata": {},
   "outputs": [
    {
     "name": "stdout",
     "output_type": "stream",
     "text": [
      "Let's play the game\n",
      "Please enter your name: Ruturaj\n",
      "Hi Ruturaj\n",
      "Dealer: diamonds,Nine\n",
      "Dealer: clubs,Jack\n",
      "dealer total = 19\n",
      "Player: diamonds,Four\n",
      "Player: diamonds,King\n",
      "Ruturaj total = 14\n",
      "Ruturaj, use \"d\", to deal and \"s\", to stand: s\n",
      "s\n",
      "dealer wins!\n",
      "Do you want to play again?y/n: y\n",
      "Let's play the game\n",
      "Please enter your name: Ruturaj\n",
      "Hi Ruturaj\n",
      "Dealer: clubs,Two\n",
      "Dealer: clubs,Jack\n",
      "dealer total = 12\n",
      "Player: hearts,Five\n",
      "Player: diamonds,King\n",
      "Ruturaj total = 15\n",
      "Ruturaj, use \"d\", to deal and \"s\", to stand: s\n",
      "s\n",
      "Dealer: clubs,Two\n",
      "Dealer: clubs,Jack\n",
      "Dealer: diamonds,Five\n",
      "dealer total = 17\n",
      "Player: hearts,Five\n",
      "Player: diamonds,King\n",
      "Ruturaj total = 15\n",
      "dealer wins!\n",
      "Do you want to play again?y/n: y\n",
      "Let's play the game\n",
      "Please enter your name: Ruturaj\n",
      "Hi Ruturaj\n",
      "Dealer: clubs,Nine\n",
      "Dealer: hearts,Four\n",
      "dealer total = 13\n",
      "Player: spades,King\n",
      "Player: diamonds,Eight\n",
      "Ruturaj total = 18\n",
      "Ruturaj, use \"d\", to deal and \"s\", to stand: s\n",
      "s\n",
      "Dealer: clubs,Nine\n",
      "Dealer: hearts,Four\n",
      "Dealer: spades,Ten\n",
      "dealer total = 23\n",
      "Player: spades,King\n",
      "Player: diamonds,Eight\n",
      "Ruturaj total = 18\n",
      "Ruturaj wins!\n",
      "Do you want to play again?y/n: y\n",
      "Let's play the game\n",
      "Please enter your name: Ruturaj\n",
      "Hi Ruturaj\n",
      "Dealer: spades,Six\n",
      "Dealer: diamonds,Four\n",
      "dealer total = 10\n",
      "Player: hearts,Nine\n",
      "Player: diamonds,Queen\n",
      "Ruturaj total = 19\n",
      "Ruturaj, use \"d\", to deal and \"s\", to stand: s\n",
      "s\n",
      "Dealer: spades,Six\n",
      "Dealer: diamonds,Four\n",
      "Dealer: clubs,Ten\n",
      "dealer total = 20\n",
      "Player: hearts,Nine\n",
      "Player: diamonds,Queen\n",
      "Ruturaj total = 19\n",
      "dealer wins!\n",
      "Do you want to play again?y/n: n\n",
      "Bye!\n"
     ]
    }
   ],
   "source": [
    "start()"
   ]
  },
  {
   "cell_type": "code",
   "execution_count": 17,
   "metadata": {},
   "outputs": [],
   "source": [
    "# Definitely not good logic, but yeah I tried and made it pretty quickly. If there are any errors, they can be fixed\n",
    "# easily. What you have learned is important. Seriously, the logic of different ace values can be added in this game,\n",
    "# but I'm just too tired to do so. May be I'll create a function outside the class for that."
   ]
  }
 ],
 "metadata": {
  "kernelspec": {
   "display_name": "Python 3",
   "language": "python",
   "name": "python3"
  },
  "language_info": {
   "codemirror_mode": {
    "name": "ipython",
    "version": 3
   },
   "file_extension": ".py",
   "mimetype": "text/x-python",
   "name": "python",
   "nbconvert_exporter": "python",
   "pygments_lexer": "ipython3",
   "version": "3.7.1"
  }
 },
 "nbformat": 4,
 "nbformat_minor": 2
}
